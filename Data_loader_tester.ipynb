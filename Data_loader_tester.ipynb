{
 "cells": [
  {
   "cell_type": "code",
   "execution_count": 1,
   "metadata": {},
   "outputs": [],
   "source": [
    "import pandas as pd\n",
    "import os\n",
    "from torch.utils.data import Dataset, DataLoader\n",
    "import numpy as np"
   ]
  },
  {
   "cell_type": "code",
   "execution_count": 7,
   "metadata": {},
   "outputs": [],
   "source": [
    "class ERA_5_datasets(Dataset):\n",
    "    def __init__(self, Glacier):\n",
    "        ERA5_path=\"ECMWF_reanalysis_data/{}/\".format(Glacier)\n",
    "        all_path=os.listdir(ERA5_path)\n",
    "        cloud_path=None\n",
    "        precipitation_path=None\n",
    "        pressure_path=None\n",
    "        wind_path=None\n",
    "        temp_path=None\n",
    "        for path in all_path:\n",
    "            if \"cloud\" in path:\n",
    "                cloud_path= ERA5_path+path\n",
    "            elif \"precipitation\" in path:\n",
    "                precipitation_path=  ERA5_path+path\n",
    "            elif \"pressure\" in path :\n",
    "                pressure_path = ERA5_path+path\n",
    "            elif \"wind\" in path:\n",
    "                wind_path=ERA5_path+path\n",
    "            elif \"temp\" in path :\n",
    "                temp_path=ERA5_path+path\n",
    "        self.get_data_2d(wind_path)\n",
    "    def get_data_2d(self, path):\n",
    "        print(path)\n",
    "        df= pd.read_csv(path)\n",
    "        "
   ]
  },
  {
   "cell_type": "code",
   "execution_count": 8,
   "metadata": {},
   "outputs": [
    {
     "name": "stdout",
     "output_type": "stream",
     "text": [
      "ECMWF_reanalysis_data/JAKOBSHAVN_ISBRAE/wind_JAKOBSHAVN_ISBRAE.csv\n"
     ]
    }
   ],
   "source": [
    "ERA5 =ERA_5_datasets(\"JAKOBSHAVN_ISBRAE\")"
   ]
  },
  {
   "cell_type": "code",
   "execution_count": null,
   "metadata": {},
   "outputs": [],
   "source": []
  },
  {
   "cell_type": "code",
   "execution_count": null,
   "metadata": {},
   "outputs": [],
   "source": [
    "starts=1976"
   ]
  },
  {
   "cell_type": "code",
   "execution_count": 20,
   "metadata": {},
   "outputs": [
    {
     "data": {
      "text/plain": [
       "2020"
      ]
     },
     "execution_count": 20,
     "metadata": {},
     "output_type": "execute_result"
    }
   ],
   "source": [
    "df= pd.read_csv(\"ECMWF_reanalysis_data/JAKOBSHAVN_ISBRAE/wind_JAKOBSHAVN_ISBRAE.csv\")\n",
    "columns =list(df.columns)[1:-1]\n",
    "starting_year=int(columns[0][:4])\n",
    "end_year= int(columns[-1][:4])\n",
    "if start> starting_year:\n",
    "    "
   ]
  },
  {
   "cell_type": "code",
   "execution_count": null,
   "metadata": {},
   "outputs": [],
   "source": []
  }
 ],
 "metadata": {
  "kernelspec": {
   "display_name": "Python 3",
   "language": "python",
   "name": "python3"
  },
  "language_info": {
   "codemirror_mode": {
    "name": "ipython",
    "version": 3
   },
   "file_extension": ".py",
   "mimetype": "text/x-python",
   "name": "python",
   "nbconvert_exporter": "python",
   "pygments_lexer": "ipython3",
   "version": "3.6.8"
  }
 },
 "nbformat": 4,
 "nbformat_minor": 2
}
