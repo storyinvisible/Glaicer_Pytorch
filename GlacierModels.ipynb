{
 "cells": [
  {
   "cell_type": "code",
   "execution_count": 1,
   "metadata": {
    "colab": {
     "base_uri": "https://localhost:8080/"
    },
    "id": "Jc9X2D27ngTZ",
    "outputId": "68e65317-5b6d-4b84-a311-616f6064deaf"
   },
   "outputs": [],
   "source": [
    "from google.colab import drive\n",
    "drive.mount('/content/gdrive')"
   ]
  },
  {
   "cell_type": "code",
   "execution_count": 2,
   "metadata": {
    "id": "qd2I1FGvpc7K"
   },
   "outputs": [],
   "source": [
    "basepath=\"/content/gdrive/MyDrive/Glaicer_Pytorch/\"\n",
    "import sys\n",
    "\n",
    "sys.path.append(basepath)"
   ]
  },
  {
   "cell_type": "code",
   "execution_count": 3,
   "metadata": {
    "colab": {
     "base_uri": "https://localhost:8080/"
    },
    "id": "8txLcHH7r4vD",
    "outputId": "958415f7-5564-432f-debc-4f1bb6e48c8d"
   },
   "outputs": [],
   "source": [
    "# !git clone https://github.com/storyinvisible/Glaicer_Pytorch.git /content/gdrive/MyDrive/Glaicer_Pytorch/\n",
    "!cd /content/gdrive/MyDrive/Glaicer_Pytorch/ && git pull\n",
    "!mkdir plots\n",
    "!pip install netCDF4~=1.5.6"
   ]
  },
  {
   "cell_type": "code",
   "execution_count": 4,
   "metadata": {
    "id": "9BP1LjxMpP0C"
   },
   "outputs": [],
   "source": [
    "import os.path\n",
    "import torch\n",
    "from torch.utils.data import DataLoader\n",
    "from runner2D import trainer\n",
    "from datasets import Glacier_dmdt, ERA5Datasets, GlacierDataset\n",
    "from models import GlacierModel, LSTMPredictor, VCNN, HCNN\n",
    "\n",
    "cuda = torch.device(\"cuda\" if torch.cuda.is_available() else \"cpu\")\n",
    "loss_function = torch.nn.MSELoss()\n",
    "save_path = \"/content/gdrive/MyDrive/Glaicer_Pytorch/saved_models\"\n",
    "if not os.path.exists(save_path):\n",
    "    os.makedirs(save_path)"
   ]
  },
  {
   "cell_type": "code",
   "execution_count": 5,
   "outputs": [],
   "source": [
    "epochs = 1\n",
    "save_every = 1\n",
    "eval_every = 1\n",
    "hidden = [256, 128, 64, 32]"
   ],
   "metadata": {
    "collapsed": false,
    "pycharm": {
     "name": "#%%\n"
    }
   }
  },
  {
   "cell_type": "markdown",
   "source": [
    "# STORSTROMMEN 2D\n",
    "## STORSTROMMEN 2D Data"
   ],
   "metadata": {
    "collapsed": false
   }
  },
  {
   "cell_type": "code",
   "execution_count": 6,
   "outputs": [],
   "source": [
    "glacier_name = \"STORSTROMMEN\"\n",
    "start, mid, end = 1979, 2008, 2018\n",
    "train_smb = Glacier_dmdt(glacier_name, start, mid, path=os.path.join(basepath, \"glacier_dmdt.csv\"))\n",
    "train_data = ERA5Datasets(glacier_name, start, mid, path=os.path.join(basepath, \"ECMWF_reanalysis_data\"))\n",
    "test_smb = Glacier_dmdt(glacier_name, start, end, path=os.path.join(basepath, \"glacier_dmdt.csv\"))\n",
    "test_data = ERA5Datasets(glacier_name, start, end, path=os.path.join(basepath, \"ECMWF_reanalysis_data\"))\n",
    "glacier_dataset = GlacierDataset([train_data], [train_smb])\n",
    "loader = DataLoader(glacier_dataset, batch_size=16, shuffle=False)"
   ],
   "metadata": {
    "collapsed": false,
    "pycharm": {
     "name": "#%%\n"
    }
   }
  },
  {
   "cell_type": "markdown",
   "source": [
    "## STORSTROMMEN 2D HCNN"
   ],
   "metadata": {
    "collapsed": false
   }
  },
  {
   "cell_type": "code",
   "execution_count": 7,
   "outputs": [
    {
     "name": "stdout",
     "output_type": "stream",
     "text": [
      "[INFO] Epoch 1|1 1 Loss: 5.1127 Eval: 0.8525\n",
      "[INFO] Epoch 1|1 2 Loss: 5.1131 Eval: 0.8356\n"
     ]
    }
   ],
   "source": [
    "lstm_model = LSTMPredictor(layers=None, input_dim=256, hidden_dim=hidden, n_layers=1, bidirection=False, p=0.5)\n",
    "extractor = HCNN(in_channel=5, output_dim=256, vertical_dim=326)\n",
    "glacier_model = GlacierModel(extractor, lstm_model, name=\"HCNNLSTM-STOR\")\n",
    "trainer(glacier_model, train_loader=loader, testdataset=test_data, testsmb=test_smb,\n",
    "        show=False, device=cuda, epochs=epochs, lr=0.002, reg=0.001, save_every=save_every, eval_every=eval_every, test_split_at=mid,\n",
    "        critic=loss_function, optimizer=torch.optim.Adam, save_path=save_path)"
   ],
   "metadata": {
    "collapsed": false,
    "pycharm": {
     "name": "#%%\n"
    }
   }
  },
  {
   "cell_type": "markdown",
   "source": [
    "## STORSTROMMEN 2D VCNN"
   ],
   "metadata": {
    "collapsed": false
   }
  },
  {
   "cell_type": "code",
   "execution_count": 8,
   "outputs": [
    {
     "name": "stdout",
     "output_type": "stream",
     "text": [
      "[INFO] Epoch 1|1 1 Loss: 5.0755 Eval: 0.8441\n",
      "[INFO] Epoch 1|1 2 Loss: 5.0760 Eval: 0.8389\n"
     ]
    }
   ],
   "source": [
    "lstm_model = LSTMPredictor(layers=None, input_dim=256, hidden_dim=hidden, n_layers=1, bidirection=False, p=0.5)\n",
    "extractor = VCNN(in_channel=5, output_dim=256)\n",
    "glacier_model = GlacierModel(extractor, lstm_model, name=\"VCNNLSTM-STOR\")\n",
    "trainer(glacier_model, train_loader=loader, testdataset=test_data, testsmb=test_smb,\n",
    "        show=False, device=cuda, epochs=epochs, lr=0.002, reg=0.001, save_every=save_every, eval_every=eval_every, test_split_at=mid,\n",
    "        critic=loss_function, optimizer=torch.optim.Adam, save_path=save_path)"
   ],
   "metadata": {
    "collapsed": false,
    "pycharm": {
     "name": "#%%\n"
    }
   }
  },
  {
   "cell_type": "markdown",
   "source": [
    "# HELHEIMGLETSCHER 2D\n",
    "## HELHEIMGLETSCHER 2D Data"
   ],
   "metadata": {
    "collapsed": false,
    "pycharm": {
     "name": "#%% md\n"
    }
   }
  },
  {
   "cell_type": "code",
   "execution_count": 9,
   "outputs": [],
   "source": [
    "glacier_name = \"HELHEIMGLETSCHER\"\n",
    "start, mid, end = 1980, 2008, 2018\n",
    "train_smb = Glacier_dmdt(glacier_name, start, mid, path=os.path.join(basepath, \"glacier_dmdt.csv\"))\n",
    "train_data = ERA5Datasets(glacier_name, start, mid, path=os.path.join(basepath, \"ECMWF_reanalysis_data\"))\n",
    "test_smb = Glacier_dmdt(glacier_name, start, end, path=os.path.join(basepath, \"glacier_dmdt.csv\"))\n",
    "test_data = ERA5Datasets(glacier_name, start, end, path=os.path.join(basepath, \"ECMWF_reanalysis_data\"))\n",
    "glacier_dataset = GlacierDataset([train_data], [train_smb])\n",
    "loader = DataLoader(glacier_dataset, batch_size=16, shuffle=False)"
   ],
   "metadata": {
    "collapsed": false,
    "pycharm": {
     "name": "#%%\n"
    }
   }
  },
  {
   "cell_type": "markdown",
   "source": [
    "## HELHEIMGLETSCHER HCNN"
   ],
   "metadata": {
    "collapsed": false,
    "pycharm": {
     "name": "#%% md\n"
    }
   }
  },
  {
   "cell_type": "code",
   "execution_count": 10,
   "outputs": [
    {
     "name": "stdout",
     "output_type": "stream",
     "text": [
      "[INFO] Epoch 1|1 1 Loss: 33.1497 Eval: 18.7463\n",
      "[INFO] Epoch 1|1 2 Loss: 84.5874 Eval: 18.6182\n"
     ]
    }
   ],
   "source": [
    "lstm_model = LSTMPredictor(layers=None, input_dim=256, hidden_dim=hidden, n_layers=1, bidirection=False, p=0.5)\n",
    "extractor = HCNN(in_channel=5, output_dim=256, vertical_dim=167)\n",
    "glacier_model = GlacierModel(extractor, lstm_model, name=\"HCNNLSTM-HELH\")\n",
    "trainer(glacier_model, train_loader=loader, testdataset=test_data, testsmb=test_smb,\n",
    "        show=False, device=cuda, epochs=epochs, lr=0.002, reg=0.001, save_every=save_every, eval_every=eval_every, test_split_at=mid,\n",
    "        critic=loss_function, optimizer=torch.optim.Adam, save_path=save_path)"
   ],
   "metadata": {
    "collapsed": false,
    "pycharm": {
     "name": "#%%\n"
    }
   }
  },
  {
   "cell_type": "markdown",
   "source": [
    "## HELHEIMGLETSCHER VCNN"
   ],
   "metadata": {
    "collapsed": false
   }
  },
  {
   "cell_type": "code",
   "execution_count": 11,
   "outputs": [
    {
     "name": "stdout",
     "output_type": "stream",
     "text": [
      "[INFO] Epoch 1|1 1 Loss: 33.5711 Eval: 18.9303\n",
      "[INFO] Epoch 1|1 2 Loss: 85.4744 Eval: 18.7234\n"
     ]
    }
   ],
   "source": [
    "lstm_model = LSTMPredictor(layers=None, input_dim=256, hidden_dim=hidden, n_layers=1, bidirection=False, p=0.5)\n",
    "extractor = VCNN(in_channel=5, output_dim=256)\n",
    "glacier_model = GlacierModel(extractor, lstm_model, name=\"VCNNLSTM-HELH\")\n",
    "trainer(glacier_model, train_loader=loader, testdataset=test_data, testsmb=test_smb,\n",
    "        show=False, device=cuda, epochs=epochs, lr=0.002, reg=0.001, save_every=save_every, eval_every=eval_every, test_split_at=mid,\n",
    "        critic=loss_function, optimizer=torch.optim.Adam, save_path=save_path)"
   ],
   "metadata": {
    "collapsed": false,
    "pycharm": {
     "name": "#%%\n"
    }
   }
  },
  {
   "cell_type": "markdown",
   "source": [
    "# JAKOBSHAVN 2D\n",
    "## JAKOBSHAVN 2D Data"
   ],
   "metadata": {
    "collapsed": false,
    "pycharm": {
     "name": "#%% md\n"
    }
   }
  },
  {
   "cell_type": "code",
   "execution_count": 12,
   "metadata": {
    "id": "aXbR9paEptYl"
   },
   "outputs": [],
   "source": [
    "glacier_name = \"JAKOBSHAVN_ISBRAE\"\n",
    "start, mid, end = 1980, 2008, 2018\n",
    "train_smb = Glacier_dmdt(glacier_name, start, mid, path=os.path.join(basepath, \"glacier_dmdt.csv\"))\n",
    "train_data = ERA5Datasets(glacier_name, start, mid, path=os.path.join(basepath, \"ECMWF_reanalysis_data\"))\n",
    "test_smb = Glacier_dmdt(glacier_name, start, end, path=os.path.join(basepath, \"glacier_dmdt.csv\"))\n",
    "test_data = ERA5Datasets(glacier_name, start, end, path=os.path.join(basepath, \"ECMWF_reanalysis_data\"))\n",
    "glacier_dataset = GlacierDataset([train_data], [train_smb])\n",
    "loader = DataLoader(glacier_dataset, batch_size=16, shuffle=False)"
   ]
  },
  {
   "cell_type": "markdown",
   "source": [
    "## JAKOBSHAVN HCNN"
   ],
   "metadata": {
    "collapsed": false
   }
  },
  {
   "cell_type": "code",
   "execution_count": 13,
   "metadata": {
    "id": "dvZFGksesoM-"
   },
   "outputs": [
    {
     "name": "stdout",
     "output_type": "stream",
     "text": [
      "[INFO] Epoch 1|1 1 Loss: 41.6563 Eval: 30.9484\n",
      "[INFO] Epoch 1|1 2 Loss: 120.2730 Eval: 30.7945\n"
     ]
    }
   ],
   "source": [
    "lstm_model = LSTMPredictor(layers=None, input_dim=256, hidden_dim=hidden, n_layers=1, bidirection=False, p=0.5)\n",
    "extractor = HCNN(in_channel=5, output_dim=256, vertical_dim=289)\n",
    "glacier_model = GlacierModel(extractor, lstm_model, name=\"HCNNLSTM-JAKOB\")\n",
    "trainer(glacier_model, train_loader=loader, testdataset=test_data, testsmb=test_smb,\n",
    "        show=False, device=cuda, epochs=epochs, lr=0.002, reg=0.001, save_every=save_every, eval_every=eval_every, test_split_at=mid,\n",
    "        critic=loss_function, optimizer=torch.optim.Adam, save_path=save_path)"
   ]
  },
  {
   "cell_type": "markdown",
   "source": [
    "## JAKOBSHAVN VCNN"
   ],
   "metadata": {
    "collapsed": false
   }
  },
  {
   "cell_type": "code",
   "execution_count": 14,
   "outputs": [
    {
     "name": "stdout",
     "output_type": "stream",
     "text": [
      "[INFO] Epoch 1|1 1 Loss: 41.0993 Eval: 30.7634\n",
      "[INFO] Epoch 1|1 2 Loss: 119.2609 Eval: 30.5573\n"
     ]
    }
   ],
   "source": [
    "lstm_model = LSTMPredictor(layers=None, input_dim=256, hidden_dim=hidden, n_layers=1, bidirection=False, p=0.5)\n",
    "extractor = VCNN(in_channel=5, output_dim=256)\n",
    "glacier_model = GlacierModel(extractor, lstm_model, name=\"VCNNLSTM-JAKOB\")\n",
    "trainer(glacier_model, train_loader=loader, testdataset=test_data, testsmb=test_smb,\n",
    "        show=False, device=cuda, epochs=epochs, lr=0.002, reg=0.001, save_every=save_every, eval_every=eval_every, test_split_at=mid,\n",
    "        critic=loss_function, optimizer=torch.optim.Adam, save_path=save_path)"
   ],
   "metadata": {
    "collapsed": false,
    "pycharm": {
     "name": "#%%\n"
    }
   }
  },
  {
   "cell_type": "markdown",
   "source": [
    "# DAUGAARD-JENSEN 2D\n",
    "## DAUGAARD-JENSEN 2D Data"
   ],
   "metadata": {
    "collapsed": false
   }
  },
  {
   "cell_type": "code",
   "execution_count": 15,
   "outputs": [],
   "source": [
    "glacier_name = \"DAUGAARD-JENSEN\"\n",
    "start, mid, end = 1987, 2010, 2018\n",
    "train_smb = Glacier_dmdt(glacier_name, start, mid, path=os.path.join(basepath, \"glacier_dmdt.csv\"))\n",
    "train_data = ERA5Datasets(glacier_name, start, mid, path=os.path.join(basepath, \"ECMWF_reanalysis_data\"))\n",
    "test_smb = Glacier_dmdt(glacier_name, start, end, path=os.path.join(basepath, \"glacier_dmdt.csv\"))\n",
    "test_data = ERA5Datasets(glacier_name, start, end, path=os.path.join(basepath, \"ECMWF_reanalysis_data\"))\n",
    "glacier_dataset = GlacierDataset([train_data], [train_smb])\n",
    "loader = DataLoader(glacier_dataset, batch_size=16, shuffle=False)"
   ],
   "metadata": {
    "collapsed": false,
    "pycharm": {
     "name": "#%%\n"
    }
   }
  },
  {
   "cell_type": "markdown",
   "source": [
    "## DAUGAARD-JENSEN VCNN"
   ],
   "metadata": {
    "collapsed": false
   }
  },
  {
   "cell_type": "code",
   "execution_count": 16,
   "outputs": [
    {
     "name": "stdout",
     "output_type": "stream",
     "text": [
      "[INFO] Epoch 1|1 1 Loss: 4.9549 Eval: 2.5298\n",
      "[INFO] Epoch 1|1 2 Loss: 9.6970 Eval: 2.4732\n"
     ]
    }
   ],
   "source": [
    "lstm_model = LSTMPredictor(layers=None, input_dim=256, hidden_dim=hidden, n_layers=1, bidirection=False, p=0.5)\n",
    "extractor = VCNN(in_channel=5, output_dim=256)\n",
    "glacier_model = GlacierModel(extractor, lstm_model, name=\"VCNNLSTM-DAUG\")\n",
    "trainer(glacier_model, train_loader=loader, testdataset=test_data, testsmb=test_smb,\n",
    "        show=False, device=cuda, epochs=epochs, lr=0.002, reg=0.001, save_every=save_every, eval_every=eval_every, test_split_at=mid,\n",
    "        critic=loss_function, optimizer=torch.optim.Adam, save_path=save_path)"
   ],
   "metadata": {
    "collapsed": false,
    "pycharm": {
     "name": "#%%\n"
    }
   }
  },
  {
   "cell_type": "markdown",
   "source": [
    "## DAUGAARD-JENSEN HCNN"
   ],
   "metadata": {
    "collapsed": false
   }
  },
  {
   "cell_type": "code",
   "execution_count": 17,
   "outputs": [
    {
     "name": "stdout",
     "output_type": "stream",
     "text": [
      "[INFO] Epoch 1|1 1 Loss: 5.1170 Eval: 2.6078\n",
      "[INFO] Epoch 1|1 2 Loss: 9.9970 Eval: 2.5461\n"
     ]
    }
   ],
   "source": [
    "lstm_model = LSTMPredictor(layers=None, input_dim=256, hidden_dim=hidden, n_layers=1, bidirection=False, p=0.5)\n",
    "extractor = HCNN(in_channel=5, output_dim=256, vertical_dim=210)\n",
    "glacier_model = GlacierModel(extractor, lstm_model, name=\"HCNNLSTM-DAUG\")\n",
    "trainer(glacier_model, train_loader=loader, testdataset=test_data, testsmb=test_smb,\n",
    "        show=False, device=cuda, epochs=epochs, lr=0.002, reg=0.001, save_every=save_every, eval_every=eval_every, test_split_at=mid,\n",
    "        critic=loss_function, optimizer=torch.optim.Adam, save_path=save_path)"
   ],
   "metadata": {
    "collapsed": false,
    "pycharm": {
     "name": "#%%\n"
    }
   }
  },
  {
   "cell_type": "markdown",
   "metadata": {
    "id": "5xQEJqed6-Bc",
    "pycharm": {
     "name": "#%% md\n"
    }
   },
   "source": [
    "# QAJUUTTAP 2D\n",
    "## QAJUUTTAP 2D Data"
   ]
  },
  {
   "cell_type": "code",
   "execution_count": 18,
   "metadata": {
    "colab": {
     "base_uri": "https://localhost:8080/"
    },
    "id": "hga1_SIW5grb",
    "outputId": "caecf0a3-36ee-40b6-96a3-6cd7bdc5184f"
   },
   "outputs": [],
   "source": [
    "glacier_name = \"QAJUUTTAP_SERMIA\"\n",
    "start, mid, end = 1987, 2010, 2018\n",
    "train_smb = Glacier_dmdt(glacier_name, start, mid, path=os.path.join(basepath, \"glacier_dmdt.csv\"))\n",
    "train_data = ERA5Datasets(glacier_name, start, mid, path=os.path.join(basepath, \"ECMWF_reanalysis_data\"))\n",
    "test_smb = Glacier_dmdt(glacier_name, start, end, path=os.path.join(basepath, \"glacier_dmdt.csv\"))\n",
    "test_data = ERA5Datasets(glacier_name, start, end, path=os.path.join(basepath, \"ECMWF_reanalysis_data\"))\n",
    "glacier_dataset = GlacierDataset([train_data], [train_smb])\n",
    "loader = DataLoader(glacier_dataset, batch_size=16, shuffle=False)"
   ]
  },
  {
   "cell_type": "markdown",
   "metadata": {
    "colab": {
     "base_uri": "https://localhost:8080/"
    },
    "id": "biTqjX076wGn",
    "outputId": "e4a62604-e7e3-448b-820f-2d7fff8662aa",
    "pycharm": {
     "name": "#%% md\n"
    }
   },
   "source": [
    "## QAJUUTTAP VCNN"
   ]
  },
  {
   "cell_type": "code",
   "execution_count": 19,
   "metadata": {
    "id": "YgfWOtUP_aNf",
    "pycharm": {
     "name": "#%%\n"
    }
   },
   "outputs": [
    {
     "name": "stdout",
     "output_type": "stream",
     "text": [
      "[INFO] Epoch 1|1 1 Loss: 1.2388 Eval: 0.6002\n",
      "[INFO] Epoch 1|1 2 Loss: 2.1799 Eval: 0.5648\n"
     ]
    }
   ],
   "source": [
    "lstm_model = LSTMPredictor(layers=None, input_dim=256, hidden_dim=hidden, n_layers=1, bidirection=False, p=0.5)\n",
    "extractor = VCNN(in_channel=5, output_dim=256)\n",
    "glacier_model = GlacierModel(extractor, lstm_model, name=\"VCNNLSTM-QAJU\")\n",
    "trainer(glacier_model, train_loader=loader, testdataset=test_data, testsmb=test_smb,\n",
    "        show=False, device=cuda, epochs=epochs, lr=0.002, reg=0.001, save_every=save_every, eval_every=eval_every, test_split_at=mid,\n",
    "        critic=loss_function, optimizer=torch.optim.Adam, save_path=save_path)"
   ]
  },
  {
   "cell_type": "markdown",
   "source": [
    "## QAJUUTTAP HCNN"
   ],
   "metadata": {
    "collapsed": false
   }
  },
  {
   "cell_type": "code",
   "execution_count": 20,
   "outputs": [
    {
     "name": "stdout",
     "output_type": "stream",
     "text": [
      "[INFO] Epoch 1|1 1 Loss: 1.2767 Eval: 0.6284\n",
      "[INFO] Epoch 1|1 2 Loss: 2.2648 Eval: 0.5954\n"
     ]
    }
   ],
   "source": [
    "lstm_model = LSTMPredictor(layers=None, input_dim=256, hidden_dim=hidden, n_layers=1, bidirection=False, p=0.5)\n",
    "extractor = HCNN(in_channel=5, output_dim=256, vertical_dim=14)\n",
    "glacier_model = GlacierModel(extractor, lstm_model, name=\"HCNNLSTM-QAJU\")\n",
    "trainer(glacier_model, train_loader=loader, testdataset=test_data, testsmb=test_smb,\n",
    "        show=False, device=cuda, epochs=epochs, lr=0.002, reg=0.001, save_every=save_every, eval_every=eval_every, test_split_at=mid,\n",
    "        critic=loss_function, optimizer=torch.optim.Adam, save_path=save_path)"
   ],
   "metadata": {
    "collapsed": false,
    "pycharm": {
     "name": "#%%\n"
    }
   }
  }
 ],
 "metadata": {
  "accelerator": "GPU",
  "colab": {
   "collapsed_sections": [],
   "name": "GlacierModels",
   "provenance": []
  },
  "kernelspec": {
   "display_name": "Python 3",
   "language": "python",
   "name": "python3"
  },
  "language_info": {
   "codemirror_mode": {
    "name": "ipython",
    "version": 3
   },
   "file_extension": ".py",
   "mimetype": "text/x-python",
   "name": "python",
   "nbconvert_exporter": "python",
   "pygments_lexer": "ipython3",
   "version": "3.8.9"
  }
 },
 "nbformat": 4,
 "nbformat_minor": 1
}